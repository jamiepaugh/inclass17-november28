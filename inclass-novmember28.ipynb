{
 "cells": [
  {
   "metadata": {},
   "cell_type": "markdown",
   "source": [
    "\n",
    "# A 4-sided dice is rolled and a 6-sided dice is rolled.  Let d represent if the rolls have a difference of exactly 1 (for example a 3 or 4, or a 2 and 1), and let r represent the result of the 4-sided dice.\n",
    "\n",
    "## Determine H(d)\n",
    "$ H(d) \\approx 0.871 $ bits.<br>\n",
    "\n",
    "## Determine H(d|r)\n",
    "$ H(d) \\approx 0.8512 $ bits.<br>"
   ],
   "id": "323550799747c079"
  },
  {
   "metadata": {},
   "cell_type": "markdown",
   "source": [
    "#### 1. Find total amount of events\n",
    "$ a \\in \\{1,2,3,4\\} $<br>\n",
    "$ b \\in \\{1,2,3,4,5,6\\} $<br>\n",
    "There are $ 6 \\times 4 = 24 $ total outcomes based on $a$ and $b$.<br>"
   ],
   "id": "ae61a3a61554f527"
  },
  {
   "metadata": {},
   "cell_type": "code",
   "source": [
    "dice_a = 5\n",
    "dice_b = 7\n",
    "\n",
    "all_outcomes = set()\n",
    "\n",
    "for i in range(1, dice_a):\n",
    "    for j in range(1, dice_b):\n",
    "        all_outcomes.add((i, j))\n",
    "print(f\"There are {len(all_outcomes)} possible outcomes.\")\n",
    "print(all_outcomes)"
   ],
   "id": "44fee2f7b3499cea",
   "outputs": [],
   "execution_count": null
  },
  {
   "metadata": {},
   "cell_type": "markdown",
   "source": [
    "#### 2. Find $P(d=1)$\n",
    "$ P(d=1) \\in \\{(1, 2), (2, 1), (2, 3), (3, 2), (3, 4), (4, 3), (4, 5)\\} $<br>\n",
    "$ P(d=1) = \\frac{7}{24} $"
   ],
   "id": "458135b9041d96"
  },
  {
   "metadata": {},
   "cell_type": "code",
   "source": [
    "difference_of_one = set()\n",
    "for outcome in all_outcomes:\n",
    "    if abs(outcome[0] - outcome[1]) == 1:\n",
    "        difference_of_one.add(outcome)\n",
    "\n",
    "print(f\"There are {len(difference_of_one)} outcomes where difference is 1.\")\n",
    "print(difference_of_one)"
   ],
   "id": "923c6e6131f807d4",
   "outputs": [],
   "execution_count": null
  },
  {
   "metadata": {},
   "cell_type": "markdown",
   "source": [
    "#### 3. Find $ P(d=0) $\n",
    "We know that $ P(d=1) = \\frac{7}{24} $, we know that $ P(d=0) = \\frac{17}{24} $"
   ],
   "id": "b3c2d480805ee43c"
  },
  {
   "metadata": {},
   "cell_type": "code",
   "source": [
    "difference_of_not_one = set()\n",
    "for outcome in all_outcomes:\n",
    "    if abs(outcome[0] - outcome[1]) != 1:\n",
    "        difference_of_not_one.add(outcome)\n",
    "\n",
    "print(f\"There are {len(difference_of_not_one)} outcomes where difference is not 1.\")\n",
    "print(difference_of_not_one)"
   ],
   "id": "63cd9bee30f6d48e",
   "outputs": [],
   "execution_count": null
  },
  {
   "metadata": {},
   "cell_type": "markdown",
   "source": [
    "#### 4. Calculate the entropy of H(d)\n",
    "Refactoring the formula given in \"12A-Conditional Entropy\" we can use this formula:\n",
    "$ H(d) = -P(d=1)log_2P(d=1)-P(d=0)log2P(d=0) $<br>\n",
    "$ H(d) = -\\frac{7}{24}log_2\\frac{7}{24}-\\frac{17}{24}log2\\frac{17}{24} $<br>\n",
    "$ H(d) \\approx 0.871 bits $"
   ],
   "id": "3b4b713f0cf9e00f"
  },
  {
   "metadata": {},
   "cell_type": "code",
   "source": [
    "import math\n",
    "entropy = -(7/24)*math.log(7/24,2)-(17/24)*math.log(17/24,2)\n",
    "\n",
    "print(f\"The entropy of H(d) is approximately {round(entropy,3)} bits\")"
   ],
   "id": "5edf8d918a60db46",
   "outputs": [],
   "execution_count": null
  },
  {
   "metadata": {},
   "cell_type": "markdown",
   "source": "## Determine $H(d|r)$",
   "id": "3af56b51e303f0ab"
  },
  {
   "metadata": {},
   "cell_type": "markdown",
   "source": [
    "#### 1. Find $P(d=1|r=x)$ and $P(d=0|r=x)$\n",
    "\n",
    "$ H(d) \\approx 0.8512 $ bits."
   ],
   "id": "a576eaa9e06d0eda"
  },
  {
   "metadata": {
    "ExecuteTime": {
     "end_time": "2024-11-28T23:36:17.364570Z",
     "start_time": "2024-11-28T23:36:17.359559Z"
    }
   },
   "cell_type": "code",
   "source": [
    "class RValue:\n",
    "    def __init__(self, r_value):\n",
    "        self.r_value = r_value\n",
    "        self.d1 = 0\n",
    "        for each in difference_of_one:\n",
    "            if each[0] == self.r_value:\n",
    "                self.d1 += 1\n",
    "        self.d2 = 6 - self.d1\n",
    "        self.entropy = -(self.d1/6)*math.log(self.d1/6,2)-(self.d2/6)*math.log(self.d2/6,2)\n",
    "\n",
    "\n",
    "rvalues = []\n",
    "for i in range(1, dice_a):\n",
    "    rvalues.append(RValue(i))\n",
    "    print(f\"r={rvalues[i-1].r_value}:\\td1: {rvalues[i-1].d1}\\td2: {rvalues[i-1].d2}\\tentropy: {rvalues[i-1].entropy}\")\n",
    "\n",
    "final_entropy = 0\n",
    "for each in rvalues:\n",
    "    final_entropy += each.entropy\n",
    "\n",
    "final_entropy *= (1/4)\n",
    "print(f\"The final entropy of H(d|r) is approximately {round(final_entropy,4)} bits\")\n"
   ],
   "id": "ec98490610da325",
   "outputs": [
    {
     "name": "stdout",
     "output_type": "stream",
     "text": [
      "r=1:\td1: 1\td2: 5\tentropy: 0.6500224216483541\n",
      "r=2:\td1: 2\td2: 4\tentropy: 0.9182958340544896\n",
      "r=3:\td1: 2\td2: 4\tentropy: 0.9182958340544896\n",
      "r=4:\td1: 2\td2: 4\tentropy: 0.9182958340544896\n",
      "The final entropy of H(d|r) is approximately 0.8512 bits\n"
     ]
    }
   ],
   "execution_count": 50
  }
 ],
 "metadata": {
  "kernelspec": {
   "display_name": "Python 3",
   "language": "python",
   "name": "python3"
  },
  "language_info": {
   "codemirror_mode": {
    "name": "ipython",
    "version": 2
   },
   "file_extension": ".py",
   "mimetype": "text/x-python",
   "name": "python",
   "nbconvert_exporter": "python",
   "pygments_lexer": "ipython2",
   "version": "2.7.6"
  }
 },
 "nbformat": 4,
 "nbformat_minor": 5
}
